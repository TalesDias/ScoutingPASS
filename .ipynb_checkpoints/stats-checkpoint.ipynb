{
 "cells": [
  {
   "cell_type": "markdown",
   "id": "a35eeb9f-df70-4ab1-a243-2d2025888eb0",
   "metadata": {},
   "source": [
    "# Introduction to the JupyterLab and Jupyter Notebooks\n",
    "\n",
    "This is a short introduction to two of the flagship tools created by [the Jupyter Community](https://jupyter.org).\n",
    "\n",
    "> **⚠️Experimental!⚠️**: This is an experimental interface provided by the [JupyterLite project](https://jupyterlite.readthedocs.io/en/latest/). It embeds an entire JupyterLab interface, with many popular packages for scientific computing, in your browser. There may be minor differences in behavior between JupyterLite and the JupyterLab you install locally. You may also encounter some bugs or unexpected behavior. To report any issues, or to get involved with the JupyterLite project, see [the JupyterLite repository](https://github.com/jupyterlite/jupyterlite/issues?q=is%3Aissue+is%3Aopen+sort%3Aupdated-desc).\n",
    "\n",
    "## JupyterLab 🧪\n",
    "\n",
    "**JupyterLab** is a next-generation web-based user interface for Project Jupyter. It enables you to work with documents and activities such as Jupyter notebooks, text editors, terminals, and custom components in a flexible, integrated, and extensible manner. It is the interface that you're looking at right now.\n",
    "\n",
    "**For an overview of the JupyterLab interface**, see the **JupyterLab Welcome Tour** on this page, by going to `Help -> Welcome Tour` and following the prompts.\n",
    "\n",
    "> **See Also**: For a more in-depth tour of JupyterLab with a full environment that runs in the cloud, see [the JupyterLab introduction on Binder](https://mybinder.org/v2/gh/jupyterlab/jupyterlab-demo/HEAD?urlpath=lab/tree/demo).\n",
    "\n",
    "## Jupyter Notebooks 📓\n",
    "\n",
    "**Jupyter Notebooks** are a community standard for communicating and performing interactive computing. They are a document that blends computations, outputs, explanatory text, mathematics, images, and rich media representations of objects.\n",
    "\n",
    "JupyterLab is one interface used to create and interact with Jupyter Notebooks.\n",
    "\n",
    "**For an overview of Jupyter Notebooks**, see the **JupyterLab Welcome Tour** on this page, by going to `Help -> Notebook Tour` and following the prompts.\n",
    "\n",
    "> **See Also**: For a more in-depth tour of Jupyter Notebooks and the Classic Jupyter Notebook interface, see [the Jupyter Notebook IPython tutorial on Binder](https://mybinder.org/v2/gh/ipython/ipython-in-depth/HEAD?urlpath=tree/binder/Index.ipynb).\n",
    "\n",
    "## An example: visualizing data in the notebook ✨\n",
    "\n",
    "Below is an example of a code cell. We'll visualize some simple data using two popular packages in Python. We'll use [NumPy](https://numpy.org/) to create some random data, and [Matplotlib](https://matplotlib.org) to visualize it.\n",
    "\n",
    "Note how the code and the results of running the code are bundled together."
   ]
  },
  {
   "cell_type": "code",
   "execution_count": 1,
   "id": "2e111c14",
   "metadata": {},
   "outputs": [],
   "source": [
    "import pandas as pd\n",
    "import seaborn as sns\n",
    "sns.set_theme(style=\"whitegrid\")"
   ]
  },
  {
   "cell_type": "code",
   "execution_count": 61,
   "id": "b51f2705",
   "metadata": {},
   "outputs": [],
   "source": [
    "pd.set_option('display.max_columns', None)\n",
    "\n",
    "df = pd.read_csv(\"dados.csv\")\n",
    "#df.head()"
   ]
  },
  {
   "cell_type": "code",
   "execution_count": 62,
   "id": "aba2a27c",
   "metadata": {},
   "outputs": [],
   "source": [
    "def clean(ms):\n",
    "    return ms.split(\"=\")[1]\n",
    "\n",
    "df = df.apply(lambda s: s.apply(clean))\n",
    "    \n",
    "#df.head()"
   ]
  },
  {
   "cell_type": "code",
   "execution_count": 63,
   "id": "b46a058a",
   "metadata": {},
   "outputs": [],
   "source": [
    "df.scouter = df.scouter.astype(\"string\")\n",
    "df.event = df.event.astype(\"string\")\n",
    "df.level = df.level.astype(\"string\")\n",
    "df.match = df.match.astype(\"string\")\n",
    "df.driveteam_pos = df.driveteam_pos.astype(\"string\")\n",
    "df.team = df.team.astype(\"string\")\n",
    "df.starting_pos = pd.to_numeric(df.starting_pos, downcast='integer')\n",
    "df.taxied = df.taxied.map({\"Y\":True, \"N\":False})\n",
    "df.auto_upper_cargo = pd.to_numeric(df.auto_upper_cargo, downcast='integer')\n",
    "df.auto_lower_cargo = pd.to_numeric(df.auto_lower_cargo, downcast='integer')\n",
    "df.auto_collect_cargo = df.auto_collect_cargo.map({\"Y\":True, \"N\":False})\n",
    "df.teleop_upper_cargo = pd.to_numeric(df.teleop_upper_cargo, downcast='integer')\n",
    "df.teleop_lower_cargo = pd.to_numeric(df.teleop_lower_cargo, downcast='integer')\n",
    "df.defense = df.defense.map({\"Y\":True, \"N\":False})\n",
    "df.wallbot = df.wallbot.map({\"Y\":True, \"N\":False})\n",
    "df.cargo_from = df.cargo_from.astype(\"string\")\n",
    "df.cargo_shots = df.cargo_shots.astype(\"string\")\n",
    "df.climb = df.climb.astype(\"string\")\n",
    "df.climb_early = df.climb_early.map({\"Y\":True, \"N\":False})\n",
    "df.total_alliance_climbed = pd.to_numeric(df.total_alliance_climbed, downcast='integer')\n",
    "df.pilot = df.pilot.astype(\"string\")\n",
    "df.defense_rating = df.defense_rating.astype(\"string\")\n",
    "df.enemy_cargo = df.enemy_cargo.map({\"Y\":True, \"N\":False})\n",
    "df.swerve = df.swerve.map({\"Y\":True, \"N\":False})\n",
    "df.speed = pd.to_numeric(df.speed, downcast='integer')\n",
    "df.died_tiped = df.died_tiped.map({\"Y\":True, \"N\":False})\n",
    "df.good_partners = df.good_partners.map({\"Y\":True, \"N\":False})\n",
    "df.comments = df.comments.astype(\"string\")\n",
    "df.confidence = df.confidence.astype(\"string\")\n",
    "\n",
    "#df.dtypes"
   ]
  },
  {
   "cell_type": "code",
   "execution_count": 148,
   "id": "4d80652c",
   "metadata": {
    "scrolled": false
   },
   "outputs": [
    {
     "data": {
      "text/plain": [
       "<AxesSubplot:xlabel='activity', ylabel='score'>"
      ]
     },
     "execution_count": 148,
     "metadata": {},
     "output_type": "execute_result"
    },
    {
     "data": {
      "image/png": "[encoded data removed]",
      "text/plain": [
       "<Figure size 640x480 with 1 Axes>"
      ]
     },
     "metadata": {},
     "output_type": "display_data"
    }
   ],
   "source": [
    "teamA = 174\n",
    "teamB = 394\n",
    "\n",
    "da = df[['team', 'auto_upper_cargo', 'auto_lower_cargo']]\n",
    "\n",
    "\n",
    "da = pd.DataFrame()\n",
    "\n",
    "\n",
    "for ix, row in df.iterrows():\n",
    "    da.at[ix*2, 'team']  = df.at[ix, 'team']\n",
    "    da.at[ix*2, 'activity']  = \"Auto Upper Cargo\"\n",
    "    da.at[ix*2, 'score']  = df.at[ix, 'auto_upper_cargo']\n",
    "    \n",
    "    da.at[ix*2+1, 'team']  = df.at[ix, 'team']\n",
    "    da.at[ix*2+1, 'activity']  = \"Auto Lower Cargo\"\n",
    "    da.at[ix*2+1, 'score']  = df.at[ix, 'auto_lower_cargo']\n",
    "\n",
    "\n",
    "da.head()\n",
    "\n",
    "dfa = da.loc[da.team == str(teamA)]\n",
    "dfb = da.loc[da.team == str(teamB)]\n",
    "\n",
    "\n",
    "\n",
    "sns.swarmplot(x=\"activity\", y=\"score\", data=da, color=\".25\")\n",
    "sns.boxplot(x=\"activity\", y=\"score\", hue=\"team\", data=da)"
   ]
  },
  {
   "cell_type": "code",
   "execution_count": null,
   "id": "30e08f8f",
   "metadata": {},
   "outputs": [],
   "source": [
    "def showBoxplots(team):\n",
    "    "
   ]
  },
  {
   "cell_type": "code",
   "execution_count": 4,
   "id": "5bd3723b",
   "metadata": {},
   "outputs": [
    {
     "ename": "NameError",
     "evalue": "name 'team' is not defined",
     "output_type": "error",
     "traceback": [
      "\u001b[0;31m---------------------------------------------------------------------------\u001b[0m",
      "\u001b[0;31mNameError\u001b[0m                                 Traceback (most recent call last)",
      "Input \u001b[0;32mIn [4]\u001b[0m, in \u001b[0;36m<cell line: 4>\u001b[0;34m()\u001b[0m\n\u001b[1;32m      1\u001b[0m teamA \u001b[38;5;241m=\u001b[39m \u001b[38;5;241m174\u001b[39m\n\u001b[1;32m      2\u001b[0m teamB \u001b[38;5;241m=\u001b[39m \u001b[38;5;241m394\u001b[39m\n\u001b[0;32m----> 4\u001b[0m dft \u001b[38;5;241m=\u001b[39m df\u001b[38;5;241m.\u001b[39mloc[df\u001b[38;5;241m.\u001b[39mteam \u001b[38;5;241m==\u001b[39m \u001b[38;5;28mstr\u001b[39m(\u001b[43mteam\u001b[49m)]\n\u001b[1;32m      6\u001b[0m dft\u001b[38;5;241m.\u001b[39mhead()\n",
      "\u001b[0;31mNameError\u001b[0m: name 'team' is not defined"
     ]
    }
   ],
   "source": [
    "teamA = 174\n",
    "teamB = 394\n",
    "\n",
    "dfa = df.loc[df.team == str(teamA)]\n",
    "dfb = df.loc[df.team == str(teamB)]\n",
    "\n",
    "\n",
    "dfa.head()\n",
    "dfb.head()\n"
   ]
  },
  {
   "cell_type": "code",
   "execution_count": null,
   "id": "9d4c38b5",
   "metadata": {},
   "outputs": [],
   "source": []
  }
 ],
 "metadata": {
  "kernelspec": {
   "display_name": "Python 3 (ipykernel)",
   "language": "python",
   "name": "python3"
  },
  "language_info": {
   "codemirror_mode": {
    "name": "ipython",
    "version": 3
   },
   "file_extension": ".py",
   "mimetype": "text/x-python",
   "name": "python",
   "nbconvert_exporter": "python",
   "pygments_lexer": "ipython3",
   "version": "3.10.5"
  }
 },
 "nbformat": 4,
 "nbformat_minor": 5
}
